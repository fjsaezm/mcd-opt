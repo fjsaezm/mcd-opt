{
 "cells": [
  {
   "cell_type": "code",
   "execution_count": 2,
   "id": "4a65f927",
   "metadata": {},
   "outputs": [],
   "source": [
    "import numpy as np"
   ]
  },
  {
   "cell_type": "markdown",
   "id": "c813546d",
   "metadata": {},
   "source": [
    "## Búsqueda dicotómica\n",
    "\n",
    "También conocido como búsqueda binaria."
   ]
  },
  {
   "cell_type": "code",
   "execution_count": 12,
   "id": "5b423e8e",
   "metadata": {},
   "outputs": [],
   "source": [
    "def binary_search(v, elem):\n",
    "    \"\"\"\n",
    "        Implements binary search looking for the element elem\n",
    "        in the array v.\n",
    "        It assumes that:\n",
    "        - The array is sorted.\n",
    "        - There could be duplicates in the array.\n",
    "        \n",
    "        Returns the index of the first instance of the element.\n",
    "        If the element is not in the array, returns -1.\n",
    "    \"\"\"\n",
    "    # Initializa indexes\n",
    "    i_lower, i_upper = 0, len(v)\n",
    "    i = int(i_upper / 2.0)\n",
    "    \n",
    "    # Apply binary search to find the element\n",
    "    while v[i] != elem and i_lower < i_upper:\n",
    "        \n",
    "        # If we are in the subarray limits, the element\n",
    "        # is not in our array.\n",
    "        if i == i_lower or i == i_upper:\n",
    "            return -1\n",
    "        \n",
    "        # Update subarray in study\n",
    "        if v[i] > elem:\n",
    "            i_upper = i\n",
    "        else:\n",
    "            i_lower = i\n",
    "        \n",
    "        # Update pivot\n",
    "        i = int( i_lower + (i_upper - i_lower) / 2.0 )\n",
    "        \n",
    "    # Find first instance\n",
    "    while i > 0 and v[i-1] == elem:\n",
    "        i -= 1\n",
    "        \n",
    "    return i"
   ]
  },
  {
   "cell_type": "code",
   "execution_count": 16,
   "id": "830bd3e4",
   "metadata": {},
   "outputs": [
    {
     "name": "stdout",
     "output_type": "stream",
     "text": [
      "All test passed!\n"
     ]
    }
   ],
   "source": [
    "def test_binary_search():\n",
    "    test_cases = [\n",
    "        (np.arange(1000), 100, 100),\n",
    "        (np.repeat(100, 3), 5, -1),\n",
    "        (np.repeat(100, 3), 1, -1),\n",
    "    ]WW\n",
    "    all_passed = True\n",
    "    \n",
    "    for v, elem, pos_expected in test_cases:\n",
    "        pos_obtained = binary_search(v, elem)\n",
    "        if pos_obtained != pos_expected:\n",
    "            all_passed = False\n",
    "            print('Test failed: {} != {}'.format(pos_obtained, pos_expected))\n",
    "            \n",
    "    if all_passed:\n",
    "        print('All test passed!')\n",
    "\n",
    "test_binary_search()"
   ]
  },
  {
   "cell_type": "code",
   "execution_count": null,
   "id": "39664cd0",
   "metadata": {},
   "outputs": [],
   "source": []
  }
 ],
 "metadata": {
  "kernelspec": {
   "display_name": "Python 3 (ipykernel)",
   "language": "python",
   "name": "python3"
  },
  "language_info": {
   "codemirror_mode": {
    "name": "ipython",
    "version": 3
   },
   "file_extension": ".py",
   "mimetype": "text/x-python",
   "name": "python",
   "nbconvert_exporter": "python",
   "pygments_lexer": "ipython3",
   "version": "3.7.0"
  }
 },
 "nbformat": 4,
 "nbformat_minor": 5
}
